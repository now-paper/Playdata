{
 "cells": [
  {
   "cell_type": "code",
   "execution_count": 1,
   "id": "9fdae215-1ce7-4310-96ac-7bb36550014c",
   "metadata": {},
   "outputs": [],
   "source": [
    "from pyspark.sql import SparkSession\n",
    "spark = SparkSession.builder.getOrCreate()"
   ]
  },
  {
   "cell_type": "markdown",
   "id": "454d9bd7-6e01-48e3-b20d-a720f780eb9c",
   "metadata": {},
   "source": [
    "# collect()\n",
    "- collect 함수는 액션 함수 : RDD 또는 DataFrame의 모든 요소를 로컬 머신으로 수집합니다.\n",
    "- 주요 특징: 전체 데이터를 수집하여 리스트로 반환, 메모리 사용 주의.\n",
    "- 사용법: 작은 데이터셋에서 디버깅 및 확인 용도로 사용.\n",
    "- 대규모 데이터셋 대안: take(), show(), limit() 등의 함수 사용."
   ]
  },
  {
   "cell_type": "code",
   "execution_count": 2,
   "id": "29b9ec43-f742-4579-ad1d-b6e82bc17cae",
   "metadata": {},
   "outputs": [
    {
     "name": "stderr",
     "output_type": "stream",
     "text": [
      "                                                                                \r"
     ]
    },
    {
     "name": "stdout",
     "output_type": "stream",
     "text": [
      "+---------+-------+\n",
      "|dept_name|dept_id|\n",
      "+---------+-------+\n",
      "|Finance  |10     |\n",
      "|Marketing|20     |\n",
      "|Sales    |30     |\n",
      "|IT       |40     |\n",
      "+---------+-------+\n",
      "\n"
     ]
    }
   ],
   "source": [
    "dept = [(\"Finance\",10), \\\n",
    "    (\"Marketing\",20), \\\n",
    "    (\"Sales\",30), \\\n",
    "    (\"IT\",40) \\\n",
    "  ]\n",
    "deptColumns = [\"dept_name\",\"dept_id\"]\n",
    "deptDF = spark.createDataFrame(data=dept, schema = deptColumns)\n",
    "deptDF.show(truncate=False)"
   ]
  },
  {
   "cell_type": "code",
   "execution_count": 3,
   "id": "9f8a4f52-66ad-4cc1-ba4c-6bc06e57f559",
   "metadata": {},
   "outputs": [
    {
     "data": {
      "text/plain": [
       "[Row(dept_name='Finance', dept_id=10),\n",
       " Row(dept_name='Marketing', dept_id=20),\n",
       " Row(dept_name='Sales', dept_id=30),\n",
       " Row(dept_name='IT', dept_id=40)]"
      ]
     },
     "execution_count": 3,
     "metadata": {},
     "output_type": "execute_result"
    }
   ],
   "source": [
    "deptDF.collect()"
   ]
  },
  {
   "cell_type": "markdown",
   "id": "206620dc-c80d-4ed4-88ef-f29eb3c90283",
   "metadata": {},
   "source": [
    "# withColumn"
   ]
  },
  {
   "cell_type": "code",
   "execution_count": 4,
   "id": "f07bb57e-3f48-40b0-b8e0-e047f711e357",
   "metadata": {},
   "outputs": [
    {
     "name": "stdout",
     "output_type": "stream",
     "text": [
      "+---------+----------+--------+----------+------+------+\n",
      "|firstname|middlename|lastname|dob       |gender|salary|\n",
      "+---------+----------+--------+----------+------+------+\n",
      "|James    |          |Smith   |1991-04-01|M     |3000  |\n",
      "|Michael  |Rose      |        |2000-05-19|M     |4000  |\n",
      "|Robert   |          |Williams|1978-09-05|M     |4000  |\n",
      "|Maria    |Anne      |Jones   |1967-12-01|F     |4000  |\n",
      "|Jen      |Mary      |Brown   |1980-02-17|F     |-1    |\n",
      "+---------+----------+--------+----------+------+------+\n",
      "\n"
     ]
    }
   ],
   "source": [
    "data = [('James','','Smith','1991-04-01','M',3000),\n",
    "  ('Michael','Rose','','2000-05-19','M',4000),\n",
    "  ('Robert','','Williams','1978-09-05','M',4000),\n",
    "  ('Maria','Anne','Jones','1967-12-01','F',4000),\n",
    "  ('Jen','Mary','Brown','1980-02-17','F',-1)\n",
    "]\n",
    "columns = [\"firstname\",\"middlename\",\"lastname\",\"dob\",\"gender\",\"salary\"]\n",
    "\n",
    "df = spark.createDataFrame(data=data, schema=columns)\n",
    "df.show(truncate=False)"
   ]
  },
  {
   "cell_type": "code",
   "execution_count": 5,
   "id": "8288630f-b865-423c-a168-76d5233cdb1e",
   "metadata": {},
   "outputs": [
    {
     "name": "stdout",
     "output_type": "stream",
     "text": [
      "root\n",
      " |-- firstname: string (nullable = true)\n",
      " |-- middlename: string (nullable = true)\n",
      " |-- lastname: string (nullable = true)\n",
      " |-- dob: string (nullable = true)\n",
      " |-- gender: string (nullable = true)\n",
      " |-- salary: long (nullable = true)\n",
      "\n"
     ]
    }
   ],
   "source": [
    "df.printSchema()"
   ]
  },
  {
   "cell_type": "code",
   "execution_count": 6,
   "id": "626e7c8c-f9b3-4f77-883e-b9155d7efc40",
   "metadata": {},
   "outputs": [],
   "source": [
    "from pyspark.sql.functions import col"
   ]
  },
  {
   "cell_type": "code",
   "execution_count": 7,
   "id": "d16a3ee6-d6e3-469f-9b6d-1a12c034e919",
   "metadata": {},
   "outputs": [
    {
     "name": "stdout",
     "output_type": "stream",
     "text": [
      "root\n",
      " |-- firstname: string (nullable = true)\n",
      " |-- middlename: string (nullable = true)\n",
      " |-- lastname: string (nullable = true)\n",
      " |-- dob: string (nullable = true)\n",
      " |-- gender: string (nullable = true)\n",
      " |-- salary: integer (nullable = true)\n",
      "\n"
     ]
    }
   ],
   "source": [
    "df.withColumn(\"salary\", col(\"salary\").cast(\"Integer\")).printSchema()"
   ]
  },
  {
   "cell_type": "code",
   "execution_count": 8,
   "id": "fe48d4d9-1aaa-43a6-8171-a677fcf67c26",
   "metadata": {},
   "outputs": [
    {
     "name": "stdout",
     "output_type": "stream",
     "text": [
      "root\n",
      " |-- firstname: string (nullable = true)\n",
      " |-- middlename: string (nullable = true)\n",
      " |-- lastname: string (nullable = true)\n",
      " |-- dob: string (nullable = true)\n",
      " |-- gender: string (nullable = true)\n",
      " |-- salary: long (nullable = true)\n",
      " |-- salary_t: integer (nullable = true)\n",
      "\n"
     ]
    }
   ],
   "source": [
    "# 기존 변수 타입은 그대로 두면서 새로운 타입으로 파생 변수 생성 가능\n",
    "df.withColumn(\"salary_t\", col(\"salary\").cast(\"Integer\")).printSchema()"
   ]
  },
  {
   "cell_type": "code",
   "execution_count": 9,
   "id": "1e55d727-0c5f-4731-b414-85337c986024",
   "metadata": {},
   "outputs": [
    {
     "name": "stdout",
     "output_type": "stream",
     "text": [
      "+---------+----------+--------+----------+------+------+--------+\n",
      "|firstname|middlename|lastname|       dob|gender|salary|salary_t|\n",
      "+---------+----------+--------+----------+------+------+--------+\n",
      "|    James|          |   Smith|1991-04-01|     M|  3000| 4200000|\n",
      "|  Michael|      Rose|        |2000-05-19|     M|  4000| 5600000|\n",
      "|   Robert|          |Williams|1978-09-05|     M|  4000| 5600000|\n",
      "|    Maria|      Anne|   Jones|1967-12-01|     F|  4000| 5600000|\n",
      "|      Jen|      Mary|   Brown|1980-02-17|     F|    -1|   -1400|\n",
      "+---------+----------+--------+----------+------+------+--------+\n",
      "\n"
     ]
    }
   ],
   "source": [
    "# 연산까지만 적으면 수행이 안 됨. show() 라는 액션 명령어가 있어야 수행됨. \n",
    "df.withColumn(\"salary_t\", col(\"salary\").cast(\"Integer\")*1400).show()"
   ]
  },
  {
   "cell_type": "code",
   "execution_count": 10,
   "id": "91f55d88-5128-4529-a501-3f52781a1a7d",
   "metadata": {},
   "outputs": [
    {
     "name": "stdout",
     "output_type": "stream",
     "text": [
      "+---------+----------+--------+----------+------+------+-------+\n",
      "|firstname|middlename|lastname|       dob|gender|salary|country|\n",
      "+---------+----------+--------+----------+------+------+-------+\n",
      "|    James|          |   Smith|1991-04-01|     M|  3000|  korea|\n",
      "|  Michael|      Rose|        |2000-05-19|     M|  4000|  korea|\n",
      "|   Robert|          |Williams|1978-09-05|     M|  4000|  korea|\n",
      "|    Maria|      Anne|   Jones|1967-12-01|     F|  4000|  korea|\n",
      "|      Jen|      Mary|   Brown|1980-02-17|     F|    -1|  korea|\n",
      "+---------+----------+--------+----------+------+------+-------+\n",
      "\n"
     ]
    }
   ],
   "source": [
    "# 일관된 값으로 새로운 컬럼 만들기 \n",
    "from pyspark.sql.functions import lit\n",
    "df.withColumn('country', lit('korea')).show()"
   ]
  },
  {
   "cell_type": "code",
   "execution_count": 11,
   "id": "437c9139-c4c7-4c74-aa5f-59a47f060721",
   "metadata": {},
   "outputs": [
    {
     "name": "stdout",
     "output_type": "stream",
     "text": [
      "+---------+----------+--------+----------+------+------+\n",
      "|firstname|middlename|lastname|       dob|gender|salary|\n",
      "+---------+----------+--------+----------+------+------+\n",
      "|    James|          |   Smith|1991-04-01|     M|  3000|\n",
      "|  Michael|      Rose|        |2000-05-19|     M|  4000|\n",
      "|   Robert|          |Williams|1978-09-05|     M|  4000|\n",
      "|    Maria|      Anne|   Jones|1967-12-01|     F|  4000|\n",
      "|      Jen|      Mary|   Brown|1980-02-17|     F|    -1|\n",
      "+---------+----------+--------+----------+------+------+\n",
      "\n"
     ]
    }
   ],
   "source": [
    "# RDD는 불변의 성격을 갖고 있기 때문에, 컬럼을 추가하더라도 원본 df가 변하지 않는다. \n",
    "df.show()"
   ]
  },
  {
   "cell_type": "code",
   "execution_count": 12,
   "id": "f61553e7-8d31-418a-bf95-b1c9db6d3666",
   "metadata": {},
   "outputs": [],
   "source": [
    "# df2 라는 새로운 RDD에 넣어주기 \n",
    "df2 = df.withColumn('country', lit('korea'))"
   ]
  },
  {
   "cell_type": "code",
   "execution_count": 13,
   "id": "9b022d0b-8400-4ce4-b607-bfe42d6ddad8",
   "metadata": {},
   "outputs": [
    {
     "name": "stdout",
     "output_type": "stream",
     "text": [
      "+---------+----------+--------+----------+------+----+-------+\n",
      "|firstname|middlename|lastname|       dob|gender|월급|country|\n",
      "+---------+----------+--------+----------+------+----+-------+\n",
      "|    James|          |   Smith|1991-04-01|     M|3000|  korea|\n",
      "|  Michael|      Rose|        |2000-05-19|     M|4000|  korea|\n",
      "|   Robert|          |Williams|1978-09-05|     M|4000|  korea|\n",
      "|    Maria|      Anne|   Jones|1967-12-01|     F|4000|  korea|\n",
      "|      Jen|      Mary|   Brown|1980-02-17|     F|  -1|  korea|\n",
      "+---------+----------+--------+----------+------+----+-------+\n",
      "\n"
     ]
    }
   ],
   "source": [
    "df2.withColumnRenamed('salary', '월급').show()"
   ]
  },
  {
   "cell_type": "code",
   "execution_count": 14,
   "id": "e8a78cad-0d8c-4a9a-b912-9143be6e995d",
   "metadata": {},
   "outputs": [],
   "source": [
    "df2 = df2.drop('country')"
   ]
  },
  {
   "cell_type": "code",
   "execution_count": 15,
   "id": "afb80358-26d6-4da7-ae3b-71c9b63915d6",
   "metadata": {},
   "outputs": [
    {
     "name": "stdout",
     "output_type": "stream",
     "text": [
      "+---------+----------+--------+----------+------+------+\n",
      "|firstname|middlename|lastname|       dob|gender|salary|\n",
      "+---------+----------+--------+----------+------+------+\n",
      "|    James|          |   Smith|1991-04-01|     M|  3000|\n",
      "|  Michael|      Rose|        |2000-05-19|     M|  4000|\n",
      "|   Robert|          |Williams|1978-09-05|     M|  4000|\n",
      "|    Maria|      Anne|   Jones|1967-12-01|     F|  4000|\n",
      "|      Jen|      Mary|   Brown|1980-02-17|     F|    -1|\n",
      "+---------+----------+--------+----------+------+------+\n",
      "\n"
     ]
    }
   ],
   "source": [
    "df2.show()"
   ]
  },
  {
   "cell_type": "markdown",
   "id": "358457b6-4deb-4b42-a770-0a7e418461d2",
   "metadata": {},
   "source": [
    "# 파이썬 판다스와 연결"
   ]
  },
  {
   "cell_type": "code",
   "execution_count": 16,
   "id": "e442502d-c6bf-4ad5-8f57-64f8c0953060",
   "metadata": {},
   "outputs": [
    {
     "name": "stdout",
     "output_type": "stream",
     "text": [
      "Defaulting to user installation because normal site-packages is not writeable\n",
      "Requirement already satisfied: pandas in ./.local/lib/python3.10/site-packages (2.2.2)\n",
      "Requirement already satisfied: python-dateutil>=2.8.2 in ./.local/lib/python3.10/site-packages (from pandas) (2.9.0.post0)\n",
      "Requirement already satisfied: numpy>=1.22.4 in ./.local/lib/python3.10/site-packages (from pandas) (2.0.0)\n",
      "Requirement already satisfied: tzdata>=2022.7 in ./.local/lib/python3.10/site-packages (from pandas) (2024.1)\n",
      "Requirement already satisfied: pytz>=2020.1 in /usr/lib/python3/dist-packages (from pandas) (2022.1)\n",
      "Requirement already satisfied: six>=1.5 in /usr/lib/python3/dist-packages (from python-dateutil>=2.8.2->pandas) (1.16.0)\n",
      "Note: you may need to restart the kernel to use updated packages.\n"
     ]
    }
   ],
   "source": [
    "pip install pandas"
   ]
  },
  {
   "cell_type": "code",
   "execution_count": 17,
   "id": "3586b3cc-6976-4a86-8c96-47d4ed81c719",
   "metadata": {
    "scrolled": true
   },
   "outputs": [],
   "source": [
    "import pandas as pd"
   ]
  },
  {
   "cell_type": "code",
   "execution_count": 19,
   "id": "9bee3d86-ab03-4d73-8429-c011fc096358",
   "metadata": {},
   "outputs": [],
   "source": [
    "import pandas as pd\n",
    "pandas_df = pd.DataFrame({'a': [1,2,3], 'b' : [2,3,4]})\n",
    "spark_df = spark.createDataFrame(pandas_df)"
   ]
  },
  {
   "cell_type": "code",
   "execution_count": 21,
   "id": "89989e02-e621-4763-9807-14518db43365",
   "metadata": {},
   "outputs": [
    {
     "data": {
      "text/html": [
       "<div>\n",
       "<style scoped>\n",
       "    .dataframe tbody tr th:only-of-type {\n",
       "        vertical-align: middle;\n",
       "    }\n",
       "\n",
       "    .dataframe tbody tr th {\n",
       "        vertical-align: top;\n",
       "    }\n",
       "\n",
       "    .dataframe thead th {\n",
       "        text-align: right;\n",
       "    }\n",
       "</style>\n",
       "<table border=\"1\" class=\"dataframe\">\n",
       "  <thead>\n",
       "    <tr style=\"text-align: right;\">\n",
       "      <th></th>\n",
       "      <th>a</th>\n",
       "      <th>b</th>\n",
       "    </tr>\n",
       "  </thead>\n",
       "  <tbody>\n",
       "    <tr>\n",
       "      <th>0</th>\n",
       "      <td>1</td>\n",
       "      <td>2</td>\n",
       "    </tr>\n",
       "    <tr>\n",
       "      <th>1</th>\n",
       "      <td>2</td>\n",
       "      <td>3</td>\n",
       "    </tr>\n",
       "    <tr>\n",
       "      <th>2</th>\n",
       "      <td>3</td>\n",
       "      <td>4</td>\n",
       "    </tr>\n",
       "  </tbody>\n",
       "</table>\n",
       "</div>"
      ],
      "text/plain": [
       "   a  b\n",
       "0  1  2\n",
       "1  2  3\n",
       "2  3  4"
      ]
     },
     "execution_count": 21,
     "metadata": {},
     "output_type": "execute_result"
    }
   ],
   "source": [
    "pandas_df"
   ]
  },
  {
   "cell_type": "code",
   "execution_count": 23,
   "id": "8b0d67f8-f5a3-4335-b1d6-f698180fca12",
   "metadata": {},
   "outputs": [
    {
     "name": "stdout",
     "output_type": "stream",
     "text": [
      "+---+---+\n",
      "|  a|  b|\n",
      "+---+---+\n",
      "|  1|  2|\n",
      "|  2|  3|\n",
      "|  3|  4|\n",
      "+---+---+\n",
      "\n"
     ]
    }
   ],
   "source": [
    "spark_df.show()"
   ]
  },
  {
   "cell_type": "markdown",
   "id": "08d1c4f8-2712-41bf-84fa-4d23005bf639",
   "metadata": {},
   "source": [
    "# 스타벅스 데이터 크롤링"
   ]
  },
  {
   "cell_type": "code",
   "execution_count": 20,
   "id": "6cdbfe18-3e5c-40a7-8d52-34ccab2a0b2a",
   "metadata": {},
   "outputs": [],
   "source": [
    "import requests\n",
    "url = \"https://www.starbucks.co.kr/store/getStore.do?r=3PS46TOGMA\"\n",
    "payload = {\"in_biz_cds\": \"0\",\n",
    "\"in_scodes\": \"0\",\n",
    "\"ins_lat\": \"37.56682\",\n",
    "\"ins_lng\": \"126.97865\",\n",
    "\"search_text\": \"\",\n",
    "\"p_sido_cd\": \"01\",\n",
    "\"p_gugun_cd\": \"\",\n",
    "\"isError\": \"true\",\n",
    "\"in_distance\": \"0\",\n",
    "\"in_biz_cd\": \"\",\n",
    "\"iend\": \"1000\",\n",
    "\"searchType\": \"C\",\n",
    "\"set_date\": \"\",\n",
    "\"rndCod\": \"NTM40TCD0S\",\n",
    "\"all_store\": \"0\",\n",
    "\"T03\": \"0\",\n",
    "\"T01\": \"0\",\n",
    "\"T27\": \"0\",\n",
    "\"T12\": \"0\",\n",
    "\"T09\": \"0\",\n",
    "\"T30\": \"0\",\n",
    "\"T05\": \"0\",\n",
    "\"T22\": \"0\",\n",
    "\"T21\": \"0\",\n",
    "\"T10\": \"0\",\n",
    "\"T36\": \"0\",\n",
    "\"T43\": \"0\",\n",
    "\"T48\": \"0\",\n",
    "\"Z9999\": \"0\",\n",
    "\"P02\": \"0\",\n",
    "\"P10\": \"0\",\n",
    "\"P50\": \"0\",\n",
    "\"P20\": \"0\",\n",
    "\"P60\": \"0\",\n",
    "\"P30\": \"0\",\n",
    "\"P70\": \"0\",\n",
    "\"P40\": \"0\",\n",
    "\"P80\": \"0\",\n",
    "\"whcroad_yn\": \"0\",\n",
    "\"P90\": \"0\",\n",
    "\"P01\": \"0\",\n",
    "\"new_bool\": \"0\",}"
   ]
  },
  {
   "cell_type": "code",
   "execution_count": 24,
   "id": "351b4c63-9b22-412b-a1eb-6af044b01094",
   "metadata": {},
   "outputs": [],
   "source": [
    "r = requests.post(url, data=payload)"
   ]
  },
  {
   "cell_type": "code",
   "execution_count": 26,
   "id": "61e42aec-b178-4186-8d44-523227d6a39a",
   "metadata": {},
   "outputs": [],
   "source": [
    "# starbucks_df = spark.createDataFrame(pd.DataFrame(star))\n",
    "# 위 코드 실행했을 때는 결측치 때문에 DF 생성하지 못하는 오류 발생 \n",
    "star = pd.DataFrame(r.json()['list'])"
   ]
  },
  {
   "cell_type": "code",
   "execution_count": 29,
   "id": "c2760de7-9796-405d-a509-cbff274858d8",
   "metadata": {},
   "outputs": [
    {
     "data": {
      "text/html": [
       "<div>\n",
       "<style scoped>\n",
       "    .dataframe tbody tr th:only-of-type {\n",
       "        vertical-align: middle;\n",
       "    }\n",
       "\n",
       "    .dataframe tbody tr th {\n",
       "        vertical-align: top;\n",
       "    }\n",
       "\n",
       "    .dataframe thead th {\n",
       "        text-align: right;\n",
       "    }\n",
       "</style>\n",
       "<table border=\"1\" class=\"dataframe\">\n",
       "  <thead>\n",
       "    <tr style=\"text-align: right;\">\n",
       "      <th></th>\n",
       "      <th>seq</th>\n",
       "      <th>sido_cd</th>\n",
       "      <th>sido_nm</th>\n",
       "      <th>gugun_cd</th>\n",
       "      <th>gugun_nm</th>\n",
       "      <th>code_order</th>\n",
       "      <th>view_yn</th>\n",
       "      <th>store_num</th>\n",
       "      <th>sido</th>\n",
       "      <th>gugun</th>\n",
       "      <th>...</th>\n",
       "      <th>p01</th>\n",
       "      <th>t05</th>\n",
       "      <th>t30</th>\n",
       "      <th>t36</th>\n",
       "      <th>t27</th>\n",
       "      <th>t29</th>\n",
       "      <th>t43</th>\n",
       "      <th>t48</th>\n",
       "      <th>z9999</th>\n",
       "      <th>p02</th>\n",
       "    </tr>\n",
       "  </thead>\n",
       "  <tbody>\n",
       "    <tr>\n",
       "      <th>0</th>\n",
       "      <td>0</td>\n",
       "      <td>None</td>\n",
       "      <td>None</td>\n",
       "      <td>None</td>\n",
       "      <td>None</td>\n",
       "      <td>None</td>\n",
       "      <td>None</td>\n",
       "      <td>None</td>\n",
       "      <td>None</td>\n",
       "      <td>None</td>\n",
       "      <td>...</td>\n",
       "      <td>0</td>\n",
       "      <td>0</td>\n",
       "      <td>0</td>\n",
       "      <td>0</td>\n",
       "      <td>0</td>\n",
       "      <td>0</td>\n",
       "      <td>0</td>\n",
       "      <td>0</td>\n",
       "      <td>0</td>\n",
       "      <td>0</td>\n",
       "    </tr>\n",
       "    <tr>\n",
       "      <th>1</th>\n",
       "      <td>0</td>\n",
       "      <td>None</td>\n",
       "      <td>None</td>\n",
       "      <td>None</td>\n",
       "      <td>None</td>\n",
       "      <td>None</td>\n",
       "      <td>None</td>\n",
       "      <td>None</td>\n",
       "      <td>None</td>\n",
       "      <td>None</td>\n",
       "      <td>...</td>\n",
       "      <td>0</td>\n",
       "      <td>0</td>\n",
       "      <td>0</td>\n",
       "      <td>0</td>\n",
       "      <td>0</td>\n",
       "      <td>0</td>\n",
       "      <td>0</td>\n",
       "      <td>0</td>\n",
       "      <td>0</td>\n",
       "      <td>0</td>\n",
       "    </tr>\n",
       "    <tr>\n",
       "      <th>2</th>\n",
       "      <td>0</td>\n",
       "      <td>None</td>\n",
       "      <td>None</td>\n",
       "      <td>None</td>\n",
       "      <td>None</td>\n",
       "      <td>None</td>\n",
       "      <td>None</td>\n",
       "      <td>None</td>\n",
       "      <td>None</td>\n",
       "      <td>None</td>\n",
       "      <td>...</td>\n",
       "      <td>0</td>\n",
       "      <td>0</td>\n",
       "      <td>0</td>\n",
       "      <td>0</td>\n",
       "      <td>0</td>\n",
       "      <td>0</td>\n",
       "      <td>0</td>\n",
       "      <td>0</td>\n",
       "      <td>0</td>\n",
       "      <td>0</td>\n",
       "    </tr>\n",
       "    <tr>\n",
       "      <th>3</th>\n",
       "      <td>0</td>\n",
       "      <td>None</td>\n",
       "      <td>None</td>\n",
       "      <td>None</td>\n",
       "      <td>None</td>\n",
       "      <td>None</td>\n",
       "      <td>None</td>\n",
       "      <td>None</td>\n",
       "      <td>None</td>\n",
       "      <td>None</td>\n",
       "      <td>...</td>\n",
       "      <td>0</td>\n",
       "      <td>0</td>\n",
       "      <td>0</td>\n",
       "      <td>0</td>\n",
       "      <td>0</td>\n",
       "      <td>0</td>\n",
       "      <td>0</td>\n",
       "      <td>0</td>\n",
       "      <td>0</td>\n",
       "      <td>0</td>\n",
       "    </tr>\n",
       "    <tr>\n",
       "      <th>4</th>\n",
       "      <td>0</td>\n",
       "      <td>None</td>\n",
       "      <td>None</td>\n",
       "      <td>None</td>\n",
       "      <td>None</td>\n",
       "      <td>None</td>\n",
       "      <td>None</td>\n",
       "      <td>None</td>\n",
       "      <td>None</td>\n",
       "      <td>None</td>\n",
       "      <td>...</td>\n",
       "      <td>0</td>\n",
       "      <td>0</td>\n",
       "      <td>0</td>\n",
       "      <td>0</td>\n",
       "      <td>0</td>\n",
       "      <td>0</td>\n",
       "      <td>0</td>\n",
       "      <td>0</td>\n",
       "      <td>0</td>\n",
       "      <td>0</td>\n",
       "    </tr>\n",
       "    <tr>\n",
       "      <th>...</th>\n",
       "      <td>...</td>\n",
       "      <td>...</td>\n",
       "      <td>...</td>\n",
       "      <td>...</td>\n",
       "      <td>...</td>\n",
       "      <td>...</td>\n",
       "      <td>...</td>\n",
       "      <td>...</td>\n",
       "      <td>...</td>\n",
       "      <td>...</td>\n",
       "      <td>...</td>\n",
       "      <td>...</td>\n",
       "      <td>...</td>\n",
       "      <td>...</td>\n",
       "      <td>...</td>\n",
       "      <td>...</td>\n",
       "      <td>...</td>\n",
       "      <td>...</td>\n",
       "      <td>...</td>\n",
       "      <td>...</td>\n",
       "      <td>...</td>\n",
       "    </tr>\n",
       "    <tr>\n",
       "      <th>607</th>\n",
       "      <td>0</td>\n",
       "      <td>None</td>\n",
       "      <td>None</td>\n",
       "      <td>None</td>\n",
       "      <td>None</td>\n",
       "      <td>None</td>\n",
       "      <td>None</td>\n",
       "      <td>None</td>\n",
       "      <td>None</td>\n",
       "      <td>None</td>\n",
       "      <td>...</td>\n",
       "      <td>0</td>\n",
       "      <td>0</td>\n",
       "      <td>0</td>\n",
       "      <td>0</td>\n",
       "      <td>0</td>\n",
       "      <td>0</td>\n",
       "      <td>0</td>\n",
       "      <td>0</td>\n",
       "      <td>0</td>\n",
       "      <td>0</td>\n",
       "    </tr>\n",
       "    <tr>\n",
       "      <th>608</th>\n",
       "      <td>0</td>\n",
       "      <td>None</td>\n",
       "      <td>None</td>\n",
       "      <td>None</td>\n",
       "      <td>None</td>\n",
       "      <td>None</td>\n",
       "      <td>None</td>\n",
       "      <td>None</td>\n",
       "      <td>None</td>\n",
       "      <td>None</td>\n",
       "      <td>...</td>\n",
       "      <td>0</td>\n",
       "      <td>0</td>\n",
       "      <td>0</td>\n",
       "      <td>0</td>\n",
       "      <td>0</td>\n",
       "      <td>0</td>\n",
       "      <td>0</td>\n",
       "      <td>0</td>\n",
       "      <td>0</td>\n",
       "      <td>0</td>\n",
       "    </tr>\n",
       "    <tr>\n",
       "      <th>609</th>\n",
       "      <td>0</td>\n",
       "      <td>None</td>\n",
       "      <td>None</td>\n",
       "      <td>None</td>\n",
       "      <td>None</td>\n",
       "      <td>None</td>\n",
       "      <td>None</td>\n",
       "      <td>None</td>\n",
       "      <td>None</td>\n",
       "      <td>None</td>\n",
       "      <td>...</td>\n",
       "      <td>0</td>\n",
       "      <td>0</td>\n",
       "      <td>0</td>\n",
       "      <td>0</td>\n",
       "      <td>0</td>\n",
       "      <td>0</td>\n",
       "      <td>0</td>\n",
       "      <td>0</td>\n",
       "      <td>0</td>\n",
       "      <td>0</td>\n",
       "    </tr>\n",
       "    <tr>\n",
       "      <th>610</th>\n",
       "      <td>0</td>\n",
       "      <td>None</td>\n",
       "      <td>None</td>\n",
       "      <td>None</td>\n",
       "      <td>None</td>\n",
       "      <td>None</td>\n",
       "      <td>None</td>\n",
       "      <td>None</td>\n",
       "      <td>None</td>\n",
       "      <td>None</td>\n",
       "      <td>...</td>\n",
       "      <td>0</td>\n",
       "      <td>0</td>\n",
       "      <td>0</td>\n",
       "      <td>0</td>\n",
       "      <td>0</td>\n",
       "      <td>0</td>\n",
       "      <td>0</td>\n",
       "      <td>0</td>\n",
       "      <td>0</td>\n",
       "      <td>0</td>\n",
       "    </tr>\n",
       "    <tr>\n",
       "      <th>611</th>\n",
       "      <td>0</td>\n",
       "      <td>None</td>\n",
       "      <td>None</td>\n",
       "      <td>None</td>\n",
       "      <td>None</td>\n",
       "      <td>None</td>\n",
       "      <td>None</td>\n",
       "      <td>None</td>\n",
       "      <td>None</td>\n",
       "      <td>None</td>\n",
       "      <td>...</td>\n",
       "      <td>0</td>\n",
       "      <td>0</td>\n",
       "      <td>0</td>\n",
       "      <td>0</td>\n",
       "      <td>0</td>\n",
       "      <td>0</td>\n",
       "      <td>0</td>\n",
       "      <td>0</td>\n",
       "      <td>0</td>\n",
       "      <td>0</td>\n",
       "    </tr>\n",
       "  </tbody>\n",
       "</table>\n",
       "<p>612 rows × 134 columns</p>\n",
       "</div>"
      ],
      "text/plain": [
       "     seq sido_cd sido_nm gugun_cd gugun_nm code_order view_yn store_num  sido  \\\n",
       "0      0    None    None     None     None       None    None      None  None   \n",
       "1      0    None    None     None     None       None    None      None  None   \n",
       "2      0    None    None     None     None       None    None      None  None   \n",
       "3      0    None    None     None     None       None    None      None  None   \n",
       "4      0    None    None     None     None       None    None      None  None   \n",
       "..   ...     ...     ...      ...      ...        ...     ...       ...   ...   \n",
       "607    0    None    None     None     None       None    None      None  None   \n",
       "608    0    None    None     None     None       None    None      None  None   \n",
       "609    0    None    None     None     None       None    None      None  None   \n",
       "610    0    None    None     None     None       None    None      None  None   \n",
       "611    0    None    None     None     None       None    None      None  None   \n",
       "\n",
       "    gugun  ... p01 t05  t30 t36 t27 t29 t43 t48 z9999 p02  \n",
       "0    None  ...   0   0    0   0   0   0   0   0     0   0  \n",
       "1    None  ...   0   0    0   0   0   0   0   0     0   0  \n",
       "2    None  ...   0   0    0   0   0   0   0   0     0   0  \n",
       "3    None  ...   0   0    0   0   0   0   0   0     0   0  \n",
       "4    None  ...   0   0    0   0   0   0   0   0     0   0  \n",
       "..    ...  ...  ..  ..  ...  ..  ..  ..  ..  ..   ...  ..  \n",
       "607  None  ...   0   0    0   0   0   0   0   0     0   0  \n",
       "608  None  ...   0   0    0   0   0   0   0   0     0   0  \n",
       "609  None  ...   0   0    0   0   0   0   0   0     0   0  \n",
       "610  None  ...   0   0    0   0   0   0   0   0     0   0  \n",
       "611  None  ...   0   0    0   0   0   0   0   0     0   0  \n",
       "\n",
       "[612 rows x 134 columns]"
      ]
     },
     "execution_count": 29,
     "metadata": {},
     "output_type": "execute_result"
    }
   ],
   "source": [
    "star"
   ]
  },
  {
   "cell_type": "code",
   "execution_count": 30,
   "id": "a07fe087-87b3-4bba-a15b-3c750cb28b42",
   "metadata": {},
   "outputs": [
    {
     "data": {
      "text/plain": [
       "\u001b[0;31mSignature:\u001b[0m\n",
       "\u001b[0mstar\u001b[0m\u001b[0;34m.\u001b[0m\u001b[0mdropna\u001b[0m\u001b[0;34m(\u001b[0m\u001b[0;34m\u001b[0m\n",
       "\u001b[0;34m\u001b[0m    \u001b[0;34m*\u001b[0m\u001b[0;34m,\u001b[0m\u001b[0;34m\u001b[0m\n",
       "\u001b[0;34m\u001b[0m    \u001b[0maxis\u001b[0m\u001b[0;34m:\u001b[0m \u001b[0;34m'Axis'\u001b[0m \u001b[0;34m=\u001b[0m \u001b[0;36m0\u001b[0m\u001b[0;34m,\u001b[0m\u001b[0;34m\u001b[0m\n",
       "\u001b[0;34m\u001b[0m    \u001b[0mhow\u001b[0m\u001b[0;34m:\u001b[0m \u001b[0;34m'AnyAll | lib.NoDefault'\u001b[0m \u001b[0;34m=\u001b[0m \u001b[0;34m<\u001b[0m\u001b[0mno_default\u001b[0m\u001b[0;34m>\u001b[0m\u001b[0;34m,\u001b[0m\u001b[0;34m\u001b[0m\n",
       "\u001b[0;34m\u001b[0m    \u001b[0mthresh\u001b[0m\u001b[0;34m:\u001b[0m \u001b[0;34m'int | lib.NoDefault'\u001b[0m \u001b[0;34m=\u001b[0m \u001b[0;34m<\u001b[0m\u001b[0mno_default\u001b[0m\u001b[0;34m>\u001b[0m\u001b[0;34m,\u001b[0m\u001b[0;34m\u001b[0m\n",
       "\u001b[0;34m\u001b[0m    \u001b[0msubset\u001b[0m\u001b[0;34m:\u001b[0m \u001b[0;34m'IndexLabel | None'\u001b[0m \u001b[0;34m=\u001b[0m \u001b[0;32mNone\u001b[0m\u001b[0;34m,\u001b[0m\u001b[0;34m\u001b[0m\n",
       "\u001b[0;34m\u001b[0m    \u001b[0minplace\u001b[0m\u001b[0;34m:\u001b[0m \u001b[0;34m'bool'\u001b[0m \u001b[0;34m=\u001b[0m \u001b[0;32mFalse\u001b[0m\u001b[0;34m,\u001b[0m\u001b[0;34m\u001b[0m\n",
       "\u001b[0;34m\u001b[0m    \u001b[0mignore_index\u001b[0m\u001b[0;34m:\u001b[0m \u001b[0;34m'bool'\u001b[0m \u001b[0;34m=\u001b[0m \u001b[0;32mFalse\u001b[0m\u001b[0;34m,\u001b[0m\u001b[0;34m\u001b[0m\n",
       "\u001b[0;34m\u001b[0m\u001b[0;34m)\u001b[0m \u001b[0;34m->\u001b[0m \u001b[0;34m'DataFrame | None'\u001b[0m\u001b[0;34m\u001b[0m\u001b[0;34m\u001b[0m\u001b[0m\n",
       "\u001b[0;31mDocstring:\u001b[0m\n",
       "Remove missing values.\n",
       "\n",
       "See the :ref:`User Guide <missing_data>` for more on which values are\n",
       "considered missing, and how to work with missing data.\n",
       "\n",
       "Parameters\n",
       "----------\n",
       "axis : {0 or 'index', 1 or 'columns'}, default 0\n",
       "    Determine if rows or columns which contain missing values are\n",
       "    removed.\n",
       "\n",
       "    * 0, or 'index' : Drop rows which contain missing values.\n",
       "    * 1, or 'columns' : Drop columns which contain missing value.\n",
       "\n",
       "    Only a single axis is allowed.\n",
       "\n",
       "how : {'any', 'all'}, default 'any'\n",
       "    Determine if row or column is removed from DataFrame, when we have\n",
       "    at least one NA or all NA.\n",
       "\n",
       "    * 'any' : If any NA values are present, drop that row or column.\n",
       "    * 'all' : If all values are NA, drop that row or column.\n",
       "\n",
       "thresh : int, optional\n",
       "    Require that many non-NA values. Cannot be combined with how.\n",
       "subset : column label or sequence of labels, optional\n",
       "    Labels along other axis to consider, e.g. if you are dropping rows\n",
       "    these would be a list of columns to include.\n",
       "inplace : bool, default False\n",
       "    Whether to modify the DataFrame rather than creating a new one.\n",
       "ignore_index : bool, default ``False``\n",
       "    If ``True``, the resulting axis will be labeled 0, 1, …, n - 1.\n",
       "\n",
       "    .. versionadded:: 2.0.0\n",
       "\n",
       "Returns\n",
       "-------\n",
       "DataFrame or None\n",
       "    DataFrame with NA entries dropped from it or None if ``inplace=True``.\n",
       "\n",
       "See Also\n",
       "--------\n",
       "DataFrame.isna: Indicate missing values.\n",
       "DataFrame.notna : Indicate existing (non-missing) values.\n",
       "DataFrame.fillna : Replace missing values.\n",
       "Series.dropna : Drop missing values.\n",
       "Index.dropna : Drop missing indices.\n",
       "\n",
       "Examples\n",
       "--------\n",
       ">>> df = pd.DataFrame({\"name\": ['Alfred', 'Batman', 'Catwoman'],\n",
       "...                    \"toy\": [np.nan, 'Batmobile', 'Bullwhip'],\n",
       "...                    \"born\": [pd.NaT, pd.Timestamp(\"1940-04-25\"),\n",
       "...                             pd.NaT]})\n",
       ">>> df\n",
       "       name        toy       born\n",
       "0    Alfred        NaN        NaT\n",
       "1    Batman  Batmobile 1940-04-25\n",
       "2  Catwoman   Bullwhip        NaT\n",
       "\n",
       "Drop the rows where at least one element is missing.\n",
       "\n",
       ">>> df.dropna()\n",
       "     name        toy       born\n",
       "1  Batman  Batmobile 1940-04-25\n",
       "\n",
       "Drop the columns where at least one element is missing.\n",
       "\n",
       ">>> df.dropna(axis='columns')\n",
       "       name\n",
       "0    Alfred\n",
       "1    Batman\n",
       "2  Catwoman\n",
       "\n",
       "Drop the rows where all elements are missing.\n",
       "\n",
       ">>> df.dropna(how='all')\n",
       "       name        toy       born\n",
       "0    Alfred        NaN        NaT\n",
       "1    Batman  Batmobile 1940-04-25\n",
       "2  Catwoman   Bullwhip        NaT\n",
       "\n",
       "Keep only the rows with at least 2 non-NA values.\n",
       "\n",
       ">>> df.dropna(thresh=2)\n",
       "       name        toy       born\n",
       "1    Batman  Batmobile 1940-04-25\n",
       "2  Catwoman   Bullwhip        NaT\n",
       "\n",
       "Define in which columns to look for missing values.\n",
       "\n",
       ">>> df.dropna(subset=['name', 'toy'])\n",
       "       name        toy       born\n",
       "1    Batman  Batmobile 1940-04-25\n",
       "2  Catwoman   Bullwhip        NaT\n",
       "\u001b[0;31mFile:\u001b[0m      ~/.local/lib/python3.10/site-packages/pandas/core/frame.py\n",
       "\u001b[0;31mType:\u001b[0m      method"
      ]
     },
     "metadata": {},
     "output_type": "display_data"
    }
   ],
   "source": [
    "?star.dropna"
   ]
  },
  {
   "cell_type": "code",
   "execution_count": 31,
   "id": "75948d69-cc2b-4a4d-926a-2a05dd1bfc54",
   "metadata": {},
   "outputs": [
    {
     "data": {
      "text/html": [
       "<div>\n",
       "<style scoped>\n",
       "    .dataframe tbody tr th:only-of-type {\n",
       "        vertical-align: middle;\n",
       "    }\n",
       "\n",
       "    .dataframe tbody tr th {\n",
       "        vertical-align: top;\n",
       "    }\n",
       "\n",
       "    .dataframe thead th {\n",
       "        text-align: right;\n",
       "    }\n",
       "</style>\n",
       "<table border=\"1\" class=\"dataframe\">\n",
       "  <thead>\n",
       "    <tr style=\"text-align: right;\">\n",
       "      <th></th>\n",
       "      <th>seq</th>\n",
       "      <th>p_pro_seq</th>\n",
       "      <th>p_sido_cd</th>\n",
       "      <th>p_gugun_cd</th>\n",
       "      <th>s_code</th>\n",
       "      <th>s_name</th>\n",
       "      <th>tel</th>\n",
       "      <th>fax</th>\n",
       "      <th>sido_code</th>\n",
       "      <th>sido_name</th>\n",
       "      <th>...</th>\n",
       "      <th>p01</th>\n",
       "      <th>t05</th>\n",
       "      <th>t30</th>\n",
       "      <th>t36</th>\n",
       "      <th>t27</th>\n",
       "      <th>t29</th>\n",
       "      <th>t43</th>\n",
       "      <th>t48</th>\n",
       "      <th>z9999</th>\n",
       "      <th>p02</th>\n",
       "    </tr>\n",
       "  </thead>\n",
       "  <tbody>\n",
       "    <tr>\n",
       "      <th>0</th>\n",
       "      <td>0</td>\n",
       "      <td>0</td>\n",
       "      <td></td>\n",
       "      <td></td>\n",
       "      <td>1509</td>\n",
       "      <td>역삼아레나빌딩</td>\n",
       "      <td>1522-3232</td>\n",
       "      <td>02-568-3763</td>\n",
       "      <td>01</td>\n",
       "      <td>서울</td>\n",
       "      <td>...</td>\n",
       "      <td>0</td>\n",
       "      <td>0</td>\n",
       "      <td>0</td>\n",
       "      <td>0</td>\n",
       "      <td>0</td>\n",
       "      <td>0</td>\n",
       "      <td>0</td>\n",
       "      <td>0</td>\n",
       "      <td>0</td>\n",
       "      <td>0</td>\n",
       "    </tr>\n",
       "    <tr>\n",
       "      <th>1</th>\n",
       "      <td>0</td>\n",
       "      <td>0</td>\n",
       "      <td></td>\n",
       "      <td></td>\n",
       "      <td>1434</td>\n",
       "      <td>논현역사거리</td>\n",
       "      <td>1522-3232</td>\n",
       "      <td>02-3442-3673</td>\n",
       "      <td>01</td>\n",
       "      <td>서울</td>\n",
       "      <td>...</td>\n",
       "      <td>0</td>\n",
       "      <td>0</td>\n",
       "      <td>0</td>\n",
       "      <td>0</td>\n",
       "      <td>0</td>\n",
       "      <td>0</td>\n",
       "      <td>0</td>\n",
       "      <td>0</td>\n",
       "      <td>0</td>\n",
       "      <td>0</td>\n",
       "    </tr>\n",
       "    <tr>\n",
       "      <th>2</th>\n",
       "      <td>0</td>\n",
       "      <td>0</td>\n",
       "      <td></td>\n",
       "      <td></td>\n",
       "      <td>1595</td>\n",
       "      <td>신사역성일빌딩</td>\n",
       "      <td>1522-3232</td>\n",
       "      <td>02-547-3859</td>\n",
       "      <td>01</td>\n",
       "      <td>서울</td>\n",
       "      <td>...</td>\n",
       "      <td>0</td>\n",
       "      <td>0</td>\n",
       "      <td>0</td>\n",
       "      <td>0</td>\n",
       "      <td>0</td>\n",
       "      <td>0</td>\n",
       "      <td>0</td>\n",
       "      <td>0</td>\n",
       "      <td>0</td>\n",
       "      <td>0</td>\n",
       "    </tr>\n",
       "    <tr>\n",
       "      <th>3</th>\n",
       "      <td>0</td>\n",
       "      <td>0</td>\n",
       "      <td></td>\n",
       "      <td></td>\n",
       "      <td>1527</td>\n",
       "      <td>국기원사거리</td>\n",
       "      <td>1522-3232</td>\n",
       "      <td>02-568-3669</td>\n",
       "      <td>01</td>\n",
       "      <td>서울</td>\n",
       "      <td>...</td>\n",
       "      <td>0</td>\n",
       "      <td>0</td>\n",
       "      <td>0</td>\n",
       "      <td>0</td>\n",
       "      <td>0</td>\n",
       "      <td>0</td>\n",
       "      <td>0</td>\n",
       "      <td>0</td>\n",
       "      <td>0</td>\n",
       "      <td>0</td>\n",
       "    </tr>\n",
       "    <tr>\n",
       "      <th>4</th>\n",
       "      <td>0</td>\n",
       "      <td>0</td>\n",
       "      <td></td>\n",
       "      <td></td>\n",
       "      <td>1468</td>\n",
       "      <td>대치재경빌딩</td>\n",
       "      <td>1522-3232</td>\n",
       "      <td>02-568-3705</td>\n",
       "      <td>01</td>\n",
       "      <td>서울</td>\n",
       "      <td>...</td>\n",
       "      <td>0</td>\n",
       "      <td>0</td>\n",
       "      <td>0</td>\n",
       "      <td>0</td>\n",
       "      <td>0</td>\n",
       "      <td>0</td>\n",
       "      <td>0</td>\n",
       "      <td>0</td>\n",
       "      <td>0</td>\n",
       "      <td>0</td>\n",
       "    </tr>\n",
       "    <tr>\n",
       "      <th>...</th>\n",
       "      <td>...</td>\n",
       "      <td>...</td>\n",
       "      <td>...</td>\n",
       "      <td>...</td>\n",
       "      <td>...</td>\n",
       "      <td>...</td>\n",
       "      <td>...</td>\n",
       "      <td>...</td>\n",
       "      <td>...</td>\n",
       "      <td>...</td>\n",
       "      <td>...</td>\n",
       "      <td>...</td>\n",
       "      <td>...</td>\n",
       "      <td>...</td>\n",
       "      <td>...</td>\n",
       "      <td>...</td>\n",
       "      <td>...</td>\n",
       "      <td>...</td>\n",
       "      <td>...</td>\n",
       "      <td>...</td>\n",
       "      <td>...</td>\n",
       "    </tr>\n",
       "    <tr>\n",
       "      <th>607</th>\n",
       "      <td>0</td>\n",
       "      <td>0</td>\n",
       "      <td></td>\n",
       "      <td></td>\n",
       "      <td>838</td>\n",
       "      <td>사가정역</td>\n",
       "      <td>1522-3232</td>\n",
       "      <td>02-435-8823</td>\n",
       "      <td>01</td>\n",
       "      <td>서울</td>\n",
       "      <td>...</td>\n",
       "      <td>0</td>\n",
       "      <td>0</td>\n",
       "      <td>0</td>\n",
       "      <td>0</td>\n",
       "      <td>0</td>\n",
       "      <td>0</td>\n",
       "      <td>0</td>\n",
       "      <td>0</td>\n",
       "      <td>0</td>\n",
       "      <td>0</td>\n",
       "    </tr>\n",
       "    <tr>\n",
       "      <th>608</th>\n",
       "      <td>0</td>\n",
       "      <td>0</td>\n",
       "      <td></td>\n",
       "      <td></td>\n",
       "      <td>493</td>\n",
       "      <td>상봉역</td>\n",
       "      <td>1522-3232</td>\n",
       "      <td>02-433-8486</td>\n",
       "      <td>01</td>\n",
       "      <td>서울</td>\n",
       "      <td>...</td>\n",
       "      <td>0</td>\n",
       "      <td>0</td>\n",
       "      <td>0</td>\n",
       "      <td>0</td>\n",
       "      <td>0</td>\n",
       "      <td>0</td>\n",
       "      <td>0</td>\n",
       "      <td>0</td>\n",
       "      <td>0</td>\n",
       "      <td>0</td>\n",
       "    </tr>\n",
       "    <tr>\n",
       "      <th>609</th>\n",
       "      <td>0</td>\n",
       "      <td>0</td>\n",
       "      <td></td>\n",
       "      <td></td>\n",
       "      <td>1668</td>\n",
       "      <td>묵동</td>\n",
       "      <td>1522-3232</td>\n",
       "      <td>02-971-3937</td>\n",
       "      <td>01</td>\n",
       "      <td>서울</td>\n",
       "      <td>...</td>\n",
       "      <td>0</td>\n",
       "      <td>0</td>\n",
       "      <td>0</td>\n",
       "      <td>0</td>\n",
       "      <td>0</td>\n",
       "      <td>0</td>\n",
       "      <td>0</td>\n",
       "      <td>0</td>\n",
       "      <td>0</td>\n",
       "      <td>0</td>\n",
       "    </tr>\n",
       "    <tr>\n",
       "      <th>610</th>\n",
       "      <td>0</td>\n",
       "      <td>0</td>\n",
       "      <td></td>\n",
       "      <td></td>\n",
       "      <td>2002</td>\n",
       "      <td>양원역</td>\n",
       "      <td>1522-3232</td>\n",
       "      <td>02-433-4308</td>\n",
       "      <td>01</td>\n",
       "      <td>서울</td>\n",
       "      <td>...</td>\n",
       "      <td>0</td>\n",
       "      <td>0</td>\n",
       "      <td>0</td>\n",
       "      <td>0</td>\n",
       "      <td>0</td>\n",
       "      <td>0</td>\n",
       "      <td>0</td>\n",
       "      <td>0</td>\n",
       "      <td>0</td>\n",
       "      <td>0</td>\n",
       "    </tr>\n",
       "    <tr>\n",
       "      <th>611</th>\n",
       "      <td>0</td>\n",
       "      <td>0</td>\n",
       "      <td></td>\n",
       "      <td></td>\n",
       "      <td>1749</td>\n",
       "      <td>중화역</td>\n",
       "      <td>1522-3232</td>\n",
       "      <td>02-435-3802</td>\n",
       "      <td>01</td>\n",
       "      <td>서울</td>\n",
       "      <td>...</td>\n",
       "      <td>0</td>\n",
       "      <td>0</td>\n",
       "      <td>0</td>\n",
       "      <td>0</td>\n",
       "      <td>0</td>\n",
       "      <td>0</td>\n",
       "      <td>0</td>\n",
       "      <td>0</td>\n",
       "      <td>0</td>\n",
       "      <td>0</td>\n",
       "    </tr>\n",
       "  </tbody>\n",
       "</table>\n",
       "<p>612 rows × 83 columns</p>\n",
       "</div>"
      ],
      "text/plain": [
       "     seq  p_pro_seq p_sido_cd p_gugun_cd s_code   s_name        tel  \\\n",
       "0      0          0                        1509  역삼아레나빌딩  1522-3232   \n",
       "1      0          0                        1434   논현역사거리  1522-3232   \n",
       "2      0          0                        1595  신사역성일빌딩  1522-3232   \n",
       "3      0          0                        1527   국기원사거리  1522-3232   \n",
       "4      0          0                        1468   대치재경빌딩  1522-3232   \n",
       "..   ...        ...       ...        ...    ...      ...        ...   \n",
       "607    0          0                         838     사가정역  1522-3232   \n",
       "608    0          0                         493      상봉역  1522-3232   \n",
       "609    0          0                        1668       묵동  1522-3232   \n",
       "610    0          0                        2002      양원역  1522-3232   \n",
       "611    0          0                        1749      중화역  1522-3232   \n",
       "\n",
       "              fax sido_code sido_name  ... p01 t05 t30 t36  t27 t29 t43 t48  \\\n",
       "0     02-568-3763        01        서울  ...   0   0   0   0    0   0   0   0   \n",
       "1    02-3442-3673        01        서울  ...   0   0   0   0    0   0   0   0   \n",
       "2     02-547-3859        01        서울  ...   0   0   0   0    0   0   0   0   \n",
       "3     02-568-3669        01        서울  ...   0   0   0   0    0   0   0   0   \n",
       "4     02-568-3705        01        서울  ...   0   0   0   0    0   0   0   0   \n",
       "..            ...       ...       ...  ...  ..  ..  ..  ..  ...  ..  ..  ..   \n",
       "607   02-435-8823        01        서울  ...   0   0   0   0    0   0   0   0   \n",
       "608   02-433-8486        01        서울  ...   0   0   0   0    0   0   0   0   \n",
       "609   02-971-3937        01        서울  ...   0   0   0   0    0   0   0   0   \n",
       "610   02-433-4308        01        서울  ...   0   0   0   0    0   0   0   0   \n",
       "611   02-435-3802        01        서울  ...   0   0   0   0    0   0   0   0   \n",
       "\n",
       "     z9999 p02  \n",
       "0        0   0  \n",
       "1        0   0  \n",
       "2        0   0  \n",
       "3        0   0  \n",
       "4        0   0  \n",
       "..     ...  ..  \n",
       "607      0   0  \n",
       "608      0   0  \n",
       "609      0   0  \n",
       "610      0   0  \n",
       "611      0   0  \n",
       "\n",
       "[612 rows x 83 columns]"
      ]
     },
     "execution_count": 31,
     "metadata": {},
     "output_type": "execute_result"
    }
   ],
   "source": [
    "# 결측치가 600개 이상인 컬럼만 삭제하겠다는 옵션\n",
    "star.dropna(axis=1, thresh=600) "
   ]
  },
  {
   "cell_type": "code",
   "execution_count": 34,
   "id": "4cc55c95-21d0-4a23-93e0-998b76f94122",
   "metadata": {},
   "outputs": [],
   "source": [
    "# 결측치 제거한 데이터로 df 만들기 \n",
    "starbucks_df = spark.createDataFrame(pd.DataFrame(star.dropna(axis=1)))"
   ]
  },
  {
   "cell_type": "code",
   "execution_count": 36,
   "id": "57f45888-6a94-4faf-b70a-0acce529b262",
   "metadata": {},
   "outputs": [
    {
     "name": "stdout",
     "output_type": "stream",
     "text": [
      "+---+---------+---------+----------+------+--------------+---------+-----------+---------+---------+----------+----------+-------------------------------+--------------------+--------+-----------+-------+-------+-----------+------------+--------------+---------------+----------------+--------+--------+--------+----------+--------+--------+---------+--------------------+----------+---------+----+------+----+--------+---------+------+-------+--------+---------+-------------+-------------------------------+---------+-----------------------+----------+-----+-------+---------+-----------+---------------+---------+----------+---+---+---+---+---+---+---+---+---+---+---+---+---+---+---+---+---+---+---+---+---+---+---+---+---+---+---+-----+---+\n",
      "|seq|p_pro_seq|p_sido_cd|p_gugun_cd|s_code|        s_name|      tel|        fax|sido_code|sido_name|gugun_code|gugun_name|                           addr|         theme_state|new_bool|search_text|ins_lat|ins_lng|in_distance|out_distance|all_search_cnt|addr_search_cnt|store_search_cnt|rowCount|store_nm|store_cd|s_biz_code|new_icon|set_user|favorites|        defaultimage|in_biz_cds|in_scodes|vSal|istart|iend| open_dt|gold_card|ip_lat|ip_long|espresso|new_store|premiere_food|                   doro_address|cold_blew|my_siren_order_store_yn|whcroad_yn|skuNo|skuName|skuImgUrl|stock_count|store_area_code|      lat|       lot|t20|t04|t03|t01|t12|t09|t06|t10|p10|p50|p20|p60|p30|p70|p40|p80|t22|t21|p90|p01|t05|t30|t36|t27|t29|t43|t48|z9999|p02|\n",
      "+---+---------+---------+----------+------+--------------+---------+-----------+---------+---------+----------+----------+-------------------------------+--------------------+--------+-----------+-------+-------+-----------+------------+--------------+---------------+----------------+--------+--------+--------+----------+--------+--------+---------+--------------------+----------+---------+----+------+----+--------+---------+------+-------+--------+---------+-------------+-------------------------------+---------+-----------------------+----------+-----+-------+---------+-----------+---------------+---------+----------+---+---+---+---+---+---+---+---+---+---+---+---+---+---+---+---+---+---+---+---+---+---+---+---+---+---+---+-----+---+\n",
      "|  0|        0|         |          |  1509|역삼아레나빌딩|1522-3232|02-568-3763|       01|     서울|      0101|    강남구|서울특별시 강남구 역삼동 721...|Z9999@T05@T08@T16...|       0|           |       |       |          0|        9.26|            -1|             -1|              -1|      30|        |       0|      3762|       N|        |        0|/upload/store/201...|         0|        0|    |     1|  60|20190613|        0|      |       |        |         |             |서울특별시 강남구 언주로 425...|         |                      N|   WHCROAD|     |       |         |          0|            A01|37.501087|127.043069|  0|  0|  0|  0|  0|  0|  0|  0|  0|  0|  0|  0|  0|  0|  0|  0|  0|  0|  0|  0|  0|  0|  0|  0|  0|  0|  0|    0|  0|\n",
      "+---+---------+---------+----------+------+--------------+---------+-----------+---------+---------+----------+----------+-------------------------------+--------------------+--------+-----------+-------+-------+-----------+------------+--------------+---------------+----------------+--------+--------+--------+----------+--------+--------+---------+--------------------+----------+---------+----+------+----+--------+---------+------+-------+--------+---------+-------------+-------------------------------+---------+-----------------------+----------+-----+-------+---------+-----------+---------------+---------+----------+---+---+---+---+---+---+---+---+---+---+---+---+---+---+---+---+---+---+---+---+---+---+---+---+---+---+---+-----+---+\n",
      "\n"
     ]
    }
   ],
   "source": [
    "starbucks_df.limit(1).show()"
   ]
  },
  {
   "cell_type": "code",
   "execution_count": 41,
   "id": "1a1d619a-5986-4af1-9c9b-31e8bec4fa9b",
   "metadata": {},
   "outputs": [
    {
     "name": "stdout",
     "output_type": "stream",
     "text": [
      "+------+--------------+--------+--------+------------------------------------------+\n",
      "|s_code|s_name        |open_dt |espresso|addr                                      |\n",
      "+------+--------------+--------+--------+------------------------------------------+\n",
      "|1509  |역삼아레나빌딩|20190613|        |서울특별시 강남구 역삼동 721-13 아레나빌딩|\n",
      "|1434  |논현역사거리  |20181123|        |서울특별시 강남구 논현동 142-2 정일빌딩   |\n",
      "|1595  |신사역성일빌딩|20191219|        |서울특별시 강남구 논현동 18-4 성일빌딩    |\n",
      "+------+--------------+--------+--------+------------------------------------------+\n",
      "only showing top 3 rows\n",
      "\n"
     ]
    }
   ],
   "source": [
    "# 특정 컬럼만 뽑기 \n",
    "starbucks_df.select(\"s_code\", \"s_name\", \"open_dt\", \"espresso\", \"addr\").show(3,truncate=False) "
   ]
  },
  {
   "cell_type": "code",
   "execution_count": 57,
   "id": "fd51270b-22c4-404c-b33b-deaa3c607376",
   "metadata": {},
   "outputs": [
    {
     "name": "stdout",
     "output_type": "stream",
     "text": [
      "+--------+--------------+--------+------------------------------------------+\n",
      "|매장코드|매장이름      |개장일  |주소                                      |\n",
      "+--------+--------------+--------+------------------------------------------+\n",
      "|1509    |역삼아레나빌딩|20190613|서울특별시 강남구 역삼동 721-13 아레나빌딩|\n",
      "|1434    |논현역사거리  |20181123|서울특별시 강남구 논현동 142-2 정일빌딩   |\n",
      "|1595    |신사역성일빌딩|20191219|서울특별시 강남구 논현동 18-4 성일빌딩    |\n",
      "|1527    |국기원사거리  |20190731|서울특별시 강남구 역삼동 648-22 동찬빌딩  |\n",
      "|1468    |대치재경빌딩  |20190214|서울특별시 강남구 대치동 599 대원빌딩     |\n",
      "+--------+--------------+--------+------------------------------------------+\n",
      "only showing top 5 rows\n",
      "\n"
     ]
    }
   ],
   "source": [
    "# 여러 컬럼 이름 바꾸기 \n",
    "starbucks_df.withColumnsRenamed({'s_code': '매장코드', 's_name': '매장이름', 'open_dt':'개장일', 'addr':'주소'}).\\\n",
    "            select(\"매장코드\", \"매장이름\", \"개장일\", \"주소\").\\\n",
    "            show(5, truncate=False)"
   ]
  },
  {
   "cell_type": "code",
   "execution_count": 60,
   "id": "ba89de8f-514f-45f9-ab3d-14a9c1399537",
   "metadata": {},
   "outputs": [
    {
     "name": "stdout",
     "output_type": "stream",
     "text": [
      "+--------------+--------+--------+--------+-------------------------------+\n",
      "|      매장이름|매장코드|  개장일|espresso|                           주소|\n",
      "+--------------+--------+--------+--------+-------------------------------+\n",
      "|역삼아레나빌딩|    1509|20190613|        |서울특별시 강남구 역삼동 721...|\n",
      "+--------------+--------+--------+--------+-------------------------------+\n",
      "only showing top 1 row\n",
      "\n"
     ]
    }
   ],
   "source": [
    "# 다른 방식으로 컬럼명 바꾸기 \n",
    "# 새롭게 지정한 컬럼명으로 새로운 데이터 프레임 만드는 함수\n",
    "# ?starbucks_df.toDF\n",
    "\n",
    "star_df = starbucks_df.select('s_name', \"s_code\", \"open_dt\", \"espresso\", \"addr\")\n",
    "star_df2= star_df.toDF(*['매장이름', '매장코드', '개장일','espresso', '주소'])\n",
    "star_df2.show(1)"
   ]
  },
  {
   "cell_type": "code",
   "execution_count": 61,
   "id": "38b5c96b-e2d2-4804-a1cc-6fd93ab2cbc2",
   "metadata": {},
   "outputs": [],
   "source": [
    "from pyspark.sql.functions import split"
   ]
  },
  {
   "cell_type": "code",
   "execution_count": 62,
   "id": "1f7b77a8-9a56-4ecf-ba87-ec18fde0f7e1",
   "metadata": {},
   "outputs": [],
   "source": [
    "star_df2 = star_df2.withColumn('split_col', split(star_df2['주소'], \" \"))"
   ]
  },
  {
   "cell_type": "code",
   "execution_count": 64,
   "id": "435a92b0-1390-41a8-a80e-1d75086ed6c9",
   "metadata": {},
   "outputs": [
    {
     "name": "stdout",
     "output_type": "stream",
     "text": [
      "+--------------+--------+--------+--------+------------------------------------------+------------------------------------------------+\n",
      "|매장이름      |매장코드|개장일  |espresso|주소                                      |split_col                                       |\n",
      "+--------------+--------+--------+--------+------------------------------------------+------------------------------------------------+\n",
      "|역삼아레나빌딩|1509    |20190613|        |서울특별시 강남구 역삼동 721-13 아레나빌딩|[서울특별시, 강남구, 역삼동, 721-13, 아레나빌딩]|\n",
      "|논현역사거리  |1434    |20181123|        |서울특별시 강남구 논현동 142-2 정일빌딩   |[서울특별시, 강남구, 논현동, 142-2, 정일빌딩]   |\n",
      "|신사역성일빌딩|1595    |20191219|        |서울특별시 강남구 논현동 18-4 성일빌딩    |[서울특별시, 강남구, 논현동, 18-4, 성일빌딩]    |\n",
      "+--------------+--------+--------+--------+------------------------------------------+------------------------------------------------+\n",
      "only showing top 3 rows\n",
      "\n"
     ]
    }
   ],
   "source": [
    "star_df2.show(3, truncate=False)"
   ]
  },
  {
   "cell_type": "code",
   "execution_count": 66,
   "id": "640b7df8-2ac4-4908-986c-a661582e2d5e",
   "metadata": {},
   "outputs": [
    {
     "name": "stdout",
     "output_type": "stream",
     "text": [
      "root\n",
      " |-- 매장이름: string (nullable = true)\n",
      " |-- 매장코드: string (nullable = true)\n",
      " |-- 개장일: string (nullable = true)\n",
      " |-- espresso: string (nullable = true)\n",
      " |-- 주소: string (nullable = true)\n",
      " |-- split_col: array (nullable = true)\n",
      " |    |-- element: string (containsNull = false)\n",
      "\n"
     ]
    }
   ],
   "source": [
    "# 주소 split한 결과는 array 값으로 저장돼 있음을 알 수 있다. \n",
    "star_df2.printSchema()"
   ]
  },
  {
   "cell_type": "code",
   "execution_count": 72,
   "id": "0e8eb564-e078-4d01-abbc-d27c0c9f29ae",
   "metadata": {},
   "outputs": [
    {
     "name": "stdout",
     "output_type": "stream",
     "text": [
      "+------------+\n",
      "|split_col[1]|\n",
      "+------------+\n",
      "|      강남구|\n",
      "|      강남구|\n",
      "|      강남구|\n",
      "+------------+\n",
      "only showing top 3 rows\n",
      "\n"
     ]
    }
   ],
   "source": [
    "# array 내 인덱스 설정으로 특정 컬럼만 뽑기 \n",
    "star_df2.select(star_df2[\"split_col\"][1]).show(3)"
   ]
  },
  {
   "cell_type": "code",
   "execution_count": 75,
   "id": "a9e5e099-b290-4618-bd7c-8f942904e394",
   "metadata": {},
   "outputs": [
    {
     "name": "stdout",
     "output_type": "stream",
     "text": [
      "+--------------+--------+--------+--------+-------------------------------+-------------------------------+------+\n",
      "|      매장이름|매장코드|  개장일|espresso|                           주소|                      split_col|    구|\n",
      "+--------------+--------+--------+--------+-------------------------------+-------------------------------+------+\n",
      "|역삼아레나빌딩|    1509|20190613|        |서울특별시 강남구 역삼동 721...|[서울특별시, 강남구, 역삼동,...|강남구|\n",
      "|  논현역사거리|    1434|20181123|        |서울특별시 강남구 논현동 142...|[서울특별시, 강남구, 논현동,...|강남구|\n",
      "|신사역성일빌딩|    1595|20191219|        |서울특별시 강남구 논현동 18-...|[서울특별시, 강남구, 논현동,...|강남구|\n",
      "+--------------+--------+--------+--------+-------------------------------+-------------------------------+------+\n",
      "only showing top 3 rows\n",
      "\n"
     ]
    }
   ],
   "source": [
    "# 새 컬럼으로 저장하기 \n",
    "star_df2 = star_df2.withColumn('구', star_df2[\"split_col\"][1])\n",
    "star_df2.show(3)"
   ]
  },
  {
   "cell_type": "code",
   "execution_count": 78,
   "id": "de7f6a50-a2c8-43eb-b8c9-b5d96d2f3c80",
   "metadata": {},
   "outputs": [
    {
     "name": "stdout",
     "output_type": "stream",
     "text": [
      "+--------+-----+\n",
      "|      구|count|\n",
      "+--------+-----+\n",
      "|  강남구|   91|\n",
      "|    중구|   52|\n",
      "|  서초구|   48|\n",
      "|영등포구|   43|\n",
      "|  종로구|   39|\n",
      "|  송파구|   37|\n",
      "|  마포구|   36|\n",
      "|  강서구|   27|\n",
      "|  용산구|   24|\n",
      "|서대문구|   21|\n",
      "|  광진구|   19|\n",
      "|  양천구|   17|\n",
      "|  강동구|   17|\n",
      "|  성북구|   15|\n",
      "|  노원구|   14|\n",
      "|  은평구|   14|\n",
      "|  구로구|   14|\n",
      "|  성동구|   14|\n",
      "|  금천구|   13|\n",
      "|동대문구|   13|\n",
      "+--------+-----+\n",
      "only showing top 20 rows\n",
      "\n"
     ]
    }
   ],
   "source": [
    "star_df2.groupby('구')\\\n",
    "        .count()\\\n",
    "        .sort('count', ascending=False)\\\n",
    "        .show()"
   ]
  },
  {
   "cell_type": "code",
   "execution_count": 79,
   "id": "39ca613c-a1d4-431e-b606-9c7a8d7fc1f8",
   "metadata": {},
   "outputs": [],
   "source": [
    "star_df2 = star_df2.drop('espresso', 'split_col')"
   ]
  },
  {
   "cell_type": "markdown",
   "id": "6ecebc6f-ed0b-4f3c-8b47-f401bcf910b3",
   "metadata": {},
   "source": [
    "# createOrReplaceTempView\n",
    "- `.createOrReplaceTempView` 함수는 PySpark DataFrame을 SQL 쿼리로 조회할 수 있는 임시 테이블로 등록하는 데 사용됩니다.\n",
    "- 이 임시 테이블은 세션 내에서만 존재하며, 세션이 종료되면 사라집니다.\n",
    "- 이 함수는 기존에 같은 이름의 임시 테이블이 존재하는 경우 그 테이블을 대체합니다."
   ]
  },
  {
   "cell_type": "code",
   "execution_count": 80,
   "id": "95e7c165-5eb2-4e01-b5c5-dbb356b349ff",
   "metadata": {},
   "outputs": [],
   "source": [
    "star_df2.createOrReplaceTempView(\"starbucks\")"
   ]
  },
  {
   "cell_type": "code",
   "execution_count": 81,
   "id": "6d10dade-3b8c-46fc-96f9-f59d5d7d0f53",
   "metadata": {},
   "outputs": [
    {
     "name": "stdout",
     "output_type": "stream",
     "text": [
      "+-----------------+--------+--------+-------------------------------+------+\n",
      "|         매장이름|매장코드|  개장일|                           주소|    구|\n",
      "+-----------------+--------+--------+-------------------------------+------+\n",
      "|   역삼아레나빌딩|    1509|20190613|서울특별시 강남구 역삼동 721...|강남구|\n",
      "|     논현역사거리|    1434|20181123|서울특별시 강남구 논현동 142...|강남구|\n",
      "|   신사역성일빌딩|    1595|20191219|서울특별시 강남구 논현동 18-...|강남구|\n",
      "|     국기원사거리|    1527|20190731|서울특별시 강남구 역삼동 648...|강남구|\n",
      "|     대치재경빌딩|    1468|20190214|서울특별시 강남구 대치동 599...|강남구|\n",
      "|         봉은사역|    1640|20200528|서울특별시 강남구 삼성동 108...|강남구|\n",
      "|   압구정윤성빌딩|    1650|20200529|서울특별시 강남구 신사동 592...|강남구|\n",
      "|     코엑스별마당|    1626|20200416|서울특별시 강남구 삼성동 159...|강남구|\n",
      "|  삼성역섬유센터R|    1438|20181123|서울특별시 강남구 대치동 944...|강남구|\n",
      "|          압구정R|    1411|20180831| 서울특별시 강남구 신사동 621-1|강남구|\n",
      "|          수서역R|    1389|20180627|서울특별시 강남구 수서동 715...|강남구|\n",
      "|    양재강남빌딩R|    1404|20180824|서울특별시 강남구 도곡동 956...|강남구|\n",
      "|    선릉동신빌딩R|    1355|20180330|서울특별시 강남구 삼성동 141...|강남구|\n",
      "|   봉은사로선정릉|    1348|20180306|서울특별시 강남구 삼성동 114...|강남구|\n",
      "|       강남오거리|    1255|20170818|서울특별시 강남구 역삼동 813...|강남구|\n",
      "|스타필드코엑스몰R|    1211|20170502|서울특별시 강남구 삼성동 159...|강남구|\n",
      "|     강남구청정문|    1188|20170323|서울특별시 강남구 청담동 44-...|강남구|\n",
      "|         도곡공원|    1263|20170825|서울특별시 강남구 역삼동 788-10|강남구|\n",
      "|            강남R|    1258|20170816|서울특별시 강남구 역삼동 825...|강남구|\n",
      "|   대치은마사거리|    1099|20160812|서울특별시 강남구 대치동 941...|강남구|\n",
      "+-----------------+--------+--------+-------------------------------+------+\n",
      "only showing top 20 rows\n",
      "\n"
     ]
    }
   ],
   "source": [
    "spark.sql(\"select * from starbucks\").show()"
   ]
  },
  {
   "cell_type": "code",
   "execution_count": 91,
   "id": "e0cdcaf1-ad69-4435-8f93-68a49cb8d5f3",
   "metadata": {},
   "outputs": [
    {
     "name": "stdout",
     "output_type": "stream",
     "text": [
      "+--------+---+\n",
      "|      구|CNT|\n",
      "+--------+---+\n",
      "|  강남구| 91|\n",
      "|    중구| 52|\n",
      "|  서초구| 48|\n",
      "|영등포구| 43|\n",
      "|  종로구| 39|\n",
      "|  송파구| 37|\n",
      "|  마포구| 36|\n",
      "|  강서구| 27|\n",
      "|  용산구| 24|\n",
      "|서대문구| 21|\n",
      "|  광진구| 19|\n",
      "|  양천구| 17|\n",
      "|  강동구| 17|\n",
      "|  성북구| 15|\n",
      "|  노원구| 14|\n",
      "|  은평구| 14|\n",
      "|  구로구| 14|\n",
      "|  성동구| 14|\n",
      "|  금천구| 13|\n",
      "|동대문구| 13|\n",
      "+--------+---+\n",
      "only showing top 20 rows\n",
      "\n"
     ]
    }
   ],
   "source": [
    "spark.sql(\"\"\"\n",
    "        SELECT `구`, COUNT(*) AS CNT\n",
    "        FROM starbucks\n",
    "        GROUP BY `구`\n",
    "        ORDER BY CNT DESC\n",
    "        \"\"\").show()"
   ]
  },
  {
   "cell_type": "code",
   "execution_count": null,
   "id": "49768b82-3f83-4387-91ef-85d3f6a16042",
   "metadata": {},
   "outputs": [],
   "source": [
    "star_df2.groupby('구')\\\n",
    "        .count()\\\n",
    "        .sort('count', ascending=False)\\\n",
    "        .show()"
   ]
  },
  {
   "cell_type": "code",
   "execution_count": null,
   "id": "ce5e8e9c-bafa-471f-9c2b-1a8d12cdb3cf",
   "metadata": {},
   "outputs": [],
   "source": []
  },
  {
   "cell_type": "code",
   "execution_count": null,
   "id": "c1373012-0ed9-44de-b376-e70f6890055e",
   "metadata": {},
   "outputs": [],
   "source": []
  },
  {
   "cell_type": "code",
   "execution_count": null,
   "id": "514f0ca3-7303-4632-aaa6-a4e9a558ec63",
   "metadata": {},
   "outputs": [],
   "source": []
  },
  {
   "cell_type": "code",
   "execution_count": null,
   "id": "06eb1523-bab8-44fa-8951-9f7bb9e1f878",
   "metadata": {},
   "outputs": [],
   "source": []
  },
  {
   "cell_type": "code",
   "execution_count": null,
   "id": "96983d40-1931-47df-ae30-b4acd6769dde",
   "metadata": {},
   "outputs": [],
   "source": []
  },
  {
   "cell_type": "code",
   "execution_count": null,
   "id": "1d4810db-83cd-47bc-9f11-8c416f7cc410",
   "metadata": {},
   "outputs": [],
   "source": []
  },
  {
   "cell_type": "code",
   "execution_count": null,
   "id": "c985048f-427e-409d-bf7a-8af6e7a9c8f4",
   "metadata": {},
   "outputs": [],
   "source": []
  },
  {
   "cell_type": "code",
   "execution_count": null,
   "id": "82bf6b20-2135-4ace-885c-f3eb69aa61c1",
   "metadata": {},
   "outputs": [],
   "source": []
  },
  {
   "cell_type": "code",
   "execution_count": null,
   "id": "9f7b9125-adb4-4b1e-b368-4e33d8d131b4",
   "metadata": {},
   "outputs": [],
   "source": []
  },
  {
   "cell_type": "code",
   "execution_count": null,
   "id": "751b098c-46eb-4d0d-b7b6-55386cbfdcca",
   "metadata": {},
   "outputs": [],
   "source": []
  },
  {
   "cell_type": "code",
   "execution_count": null,
   "id": "a7713577-3db0-47a8-a5db-9372b046b9f0",
   "metadata": {},
   "outputs": [],
   "source": []
  },
  {
   "cell_type": "code",
   "execution_count": null,
   "id": "e5a95de4-a660-407d-bca1-6277fb983add",
   "metadata": {},
   "outputs": [],
   "source": []
  },
  {
   "cell_type": "code",
   "execution_count": 15,
   "id": "4bc9de13-480f-4c80-9b1b-00f08ec00f2c",
   "metadata": {},
   "outputs": [
    {
     "name": "stderr",
     "output_type": "stream",
     "text": [
      "ERROR:root:KeyboardInterrupt while sending command.                 (0 + 2) / 2]\n",
      "Traceback (most recent call last):\n",
      "  File \"/opt/spark/python/lib/py4j-0.10.9.7-src.zip/py4j/java_gateway.py\", line 1038, in send_command\n",
      "    response = connection.send_command(command)\n",
      "  File \"/opt/spark/python/lib/py4j-0.10.9.7-src.zip/py4j/clientserver.py\", line 511, in send_command\n",
      "    answer = smart_decode(self.stream.readline()[:-1])\n",
      "  File \"/usr/lib/python3.10/socket.py\", line 705, in readinto\n",
      "    return self._sock.recv_into(b)\n",
      "KeyboardInterrupt\n"
     ]
    },
    {
     "ename": "KeyboardInterrupt",
     "evalue": "",
     "output_type": "error",
     "traceback": [
      "\u001b[0;31m---------------------------------------------------------------------------\u001b[0m",
      "\u001b[0;31mKeyboardInterrupt\u001b[0m                         Traceback (most recent call last)",
      "Cell \u001b[0;32mIn[15], line 1\u001b[0m\n\u001b[0;32m----> 1\u001b[0m bicycle \u001b[38;5;241m=\u001b[39m \u001b[43mspark\u001b[49m\u001b[38;5;241;43m.\u001b[39;49m\u001b[43m\\\u001b[49m\n\u001b[1;32m      2\u001b[0m \u001b[43m    \u001b[49m\u001b[43mread\u001b[49m\u001b[38;5;241;43m.\u001b[39;49m\u001b[43m\\\u001b[49m\n\u001b[1;32m      3\u001b[0m \u001b[43m    \u001b[49m\u001b[43mcsv\u001b[49m\u001b[43m(\u001b[49m\u001b[38;5;124;43m\"\u001b[39;49m\u001b[38;5;124;43mhdfs://192.168.0.160:8020/encore/tpss_bcycl_od_statnhm_202001.csv\u001b[39;49m\u001b[38;5;124;43m\"\u001b[39;49m\u001b[43m,\u001b[49m\u001b[43m \u001b[49m\u001b[43mheader\u001b[49m\u001b[38;5;241;43m=\u001b[39;49m\u001b[38;5;28;43;01mTrue\u001b[39;49;00m\u001b[43m,\u001b[49m\u001b[43m \u001b[49m\u001b[43minferSchema\u001b[49m\u001b[38;5;241;43m=\u001b[39;49m\u001b[38;5;28;43;01mTrue\u001b[39;49;00m\u001b[43m,\u001b[49m\u001b[43m \u001b[49m\u001b[43mencoding\u001b[49m\u001b[38;5;241;43m=\u001b[39;49m\u001b[38;5;124;43m'\u001b[39;49m\u001b[38;5;124;43meuc-kr\u001b[39;49m\u001b[38;5;124;43m'\u001b[39;49m\u001b[43m)\u001b[49m\n",
      "File \u001b[0;32m/opt/spark/python/pyspark/sql/readwriter.py:727\u001b[0m, in \u001b[0;36mDataFrameReader.csv\u001b[0;34m(self, path, schema, sep, encoding, quote, escape, comment, header, inferSchema, ignoreLeadingWhiteSpace, ignoreTrailingWhiteSpace, nullValue, nanValue, positiveInf, negativeInf, dateFormat, timestampFormat, maxColumns, maxCharsPerColumn, maxMalformedLogPerPartition, mode, columnNameOfCorruptRecord, multiLine, charToEscapeQuoteEscaping, samplingRatio, enforceSchema, emptyValue, locale, lineSep, pathGlobFilter, recursiveFileLookup, modifiedBefore, modifiedAfter, unescapedQuoteHandling)\u001b[0m\n\u001b[1;32m    725\u001b[0m \u001b[38;5;28;01mif\u001b[39;00m \u001b[38;5;28mtype\u001b[39m(path) \u001b[38;5;241m==\u001b[39m \u001b[38;5;28mlist\u001b[39m:\n\u001b[1;32m    726\u001b[0m     \u001b[38;5;28;01massert\u001b[39;00m \u001b[38;5;28mself\u001b[39m\u001b[38;5;241m.\u001b[39m_spark\u001b[38;5;241m.\u001b[39m_sc\u001b[38;5;241m.\u001b[39m_jvm \u001b[38;5;129;01mis\u001b[39;00m \u001b[38;5;129;01mnot\u001b[39;00m \u001b[38;5;28;01mNone\u001b[39;00m\n\u001b[0;32m--> 727\u001b[0m     \u001b[38;5;28;01mreturn\u001b[39;00m \u001b[38;5;28mself\u001b[39m\u001b[38;5;241m.\u001b[39m_df(\u001b[38;5;28;43mself\u001b[39;49m\u001b[38;5;241;43m.\u001b[39;49m\u001b[43m_jreader\u001b[49m\u001b[38;5;241;43m.\u001b[39;49m\u001b[43mcsv\u001b[49m\u001b[43m(\u001b[49m\u001b[38;5;28;43mself\u001b[39;49m\u001b[38;5;241;43m.\u001b[39;49m\u001b[43m_spark\u001b[49m\u001b[38;5;241;43m.\u001b[39;49m\u001b[43m_sc\u001b[49m\u001b[38;5;241;43m.\u001b[39;49m\u001b[43m_jvm\u001b[49m\u001b[38;5;241;43m.\u001b[39;49m\u001b[43mPythonUtils\u001b[49m\u001b[38;5;241;43m.\u001b[39;49m\u001b[43mtoSeq\u001b[49m\u001b[43m(\u001b[49m\u001b[43mpath\u001b[49m\u001b[43m)\u001b[49m\u001b[43m)\u001b[49m)\n\u001b[1;32m    728\u001b[0m \u001b[38;5;28;01melif\u001b[39;00m \u001b[38;5;28misinstance\u001b[39m(path, RDD):\n\u001b[1;32m    730\u001b[0m     \u001b[38;5;28;01mdef\u001b[39;00m \u001b[38;5;21mfunc\u001b[39m(iterator):\n",
      "File \u001b[0;32m/opt/spark/python/lib/py4j-0.10.9.7-src.zip/py4j/java_gateway.py:1321\u001b[0m, in \u001b[0;36mJavaMember.__call__\u001b[0;34m(self, *args)\u001b[0m\n\u001b[1;32m   1314\u001b[0m args_command, temp_args \u001b[38;5;241m=\u001b[39m \u001b[38;5;28mself\u001b[39m\u001b[38;5;241m.\u001b[39m_build_args(\u001b[38;5;241m*\u001b[39margs)\n\u001b[1;32m   1316\u001b[0m command \u001b[38;5;241m=\u001b[39m proto\u001b[38;5;241m.\u001b[39mCALL_COMMAND_NAME \u001b[38;5;241m+\u001b[39m\\\n\u001b[1;32m   1317\u001b[0m     \u001b[38;5;28mself\u001b[39m\u001b[38;5;241m.\u001b[39mcommand_header \u001b[38;5;241m+\u001b[39m\\\n\u001b[1;32m   1318\u001b[0m     args_command \u001b[38;5;241m+\u001b[39m\\\n\u001b[1;32m   1319\u001b[0m     proto\u001b[38;5;241m.\u001b[39mEND_COMMAND_PART\n\u001b[0;32m-> 1321\u001b[0m answer \u001b[38;5;241m=\u001b[39m \u001b[38;5;28;43mself\u001b[39;49m\u001b[38;5;241;43m.\u001b[39;49m\u001b[43mgateway_client\u001b[49m\u001b[38;5;241;43m.\u001b[39;49m\u001b[43msend_command\u001b[49m\u001b[43m(\u001b[49m\u001b[43mcommand\u001b[49m\u001b[43m)\u001b[49m\n\u001b[1;32m   1322\u001b[0m return_value \u001b[38;5;241m=\u001b[39m get_return_value(\n\u001b[1;32m   1323\u001b[0m     answer, \u001b[38;5;28mself\u001b[39m\u001b[38;5;241m.\u001b[39mgateway_client, \u001b[38;5;28mself\u001b[39m\u001b[38;5;241m.\u001b[39mtarget_id, \u001b[38;5;28mself\u001b[39m\u001b[38;5;241m.\u001b[39mname)\n\u001b[1;32m   1325\u001b[0m \u001b[38;5;28;01mfor\u001b[39;00m temp_arg \u001b[38;5;129;01min\u001b[39;00m temp_args:\n",
      "File \u001b[0;32m/opt/spark/python/lib/py4j-0.10.9.7-src.zip/py4j/java_gateway.py:1038\u001b[0m, in \u001b[0;36mGatewayClient.send_command\u001b[0;34m(self, command, retry, binary)\u001b[0m\n\u001b[1;32m   1036\u001b[0m connection \u001b[38;5;241m=\u001b[39m \u001b[38;5;28mself\u001b[39m\u001b[38;5;241m.\u001b[39m_get_connection()\n\u001b[1;32m   1037\u001b[0m \u001b[38;5;28;01mtry\u001b[39;00m:\n\u001b[0;32m-> 1038\u001b[0m     response \u001b[38;5;241m=\u001b[39m \u001b[43mconnection\u001b[49m\u001b[38;5;241;43m.\u001b[39;49m\u001b[43msend_command\u001b[49m\u001b[43m(\u001b[49m\u001b[43mcommand\u001b[49m\u001b[43m)\u001b[49m\n\u001b[1;32m   1039\u001b[0m     \u001b[38;5;28;01mif\u001b[39;00m binary:\n\u001b[1;32m   1040\u001b[0m         \u001b[38;5;28;01mreturn\u001b[39;00m response, \u001b[38;5;28mself\u001b[39m\u001b[38;5;241m.\u001b[39m_create_connection_guard(connection)\n",
      "File \u001b[0;32m/opt/spark/python/lib/py4j-0.10.9.7-src.zip/py4j/clientserver.py:511\u001b[0m, in \u001b[0;36mClientServerConnection.send_command\u001b[0;34m(self, command)\u001b[0m\n\u001b[1;32m    509\u001b[0m \u001b[38;5;28;01mtry\u001b[39;00m:\n\u001b[1;32m    510\u001b[0m     \u001b[38;5;28;01mwhile\u001b[39;00m \u001b[38;5;28;01mTrue\u001b[39;00m:\n\u001b[0;32m--> 511\u001b[0m         answer \u001b[38;5;241m=\u001b[39m smart_decode(\u001b[38;5;28;43mself\u001b[39;49m\u001b[38;5;241;43m.\u001b[39;49m\u001b[43mstream\u001b[49m\u001b[38;5;241;43m.\u001b[39;49m\u001b[43mreadline\u001b[49m\u001b[43m(\u001b[49m\u001b[43m)\u001b[49m[:\u001b[38;5;241m-\u001b[39m\u001b[38;5;241m1\u001b[39m])\n\u001b[1;32m    512\u001b[0m         logger\u001b[38;5;241m.\u001b[39mdebug(\u001b[38;5;124m\"\u001b[39m\u001b[38;5;124mAnswer received: \u001b[39m\u001b[38;5;132;01m{0}\u001b[39;00m\u001b[38;5;124m\"\u001b[39m\u001b[38;5;241m.\u001b[39mformat(answer))\n\u001b[1;32m    513\u001b[0m         \u001b[38;5;66;03m# Happens when a the other end is dead. There might be an empty\u001b[39;00m\n\u001b[1;32m    514\u001b[0m         \u001b[38;5;66;03m# answer before the socket raises an error.\u001b[39;00m\n",
      "File \u001b[0;32m/usr/lib/python3.10/socket.py:705\u001b[0m, in \u001b[0;36mSocketIO.readinto\u001b[0;34m(self, b)\u001b[0m\n\u001b[1;32m    703\u001b[0m \u001b[38;5;28;01mwhile\u001b[39;00m \u001b[38;5;28;01mTrue\u001b[39;00m:\n\u001b[1;32m    704\u001b[0m     \u001b[38;5;28;01mtry\u001b[39;00m:\n\u001b[0;32m--> 705\u001b[0m         \u001b[38;5;28;01mreturn\u001b[39;00m \u001b[38;5;28;43mself\u001b[39;49m\u001b[38;5;241;43m.\u001b[39;49m\u001b[43m_sock\u001b[49m\u001b[38;5;241;43m.\u001b[39;49m\u001b[43mrecv_into\u001b[49m\u001b[43m(\u001b[49m\u001b[43mb\u001b[49m\u001b[43m)\u001b[49m\n\u001b[1;32m    706\u001b[0m     \u001b[38;5;28;01mexcept\u001b[39;00m timeout:\n\u001b[1;32m    707\u001b[0m         \u001b[38;5;28mself\u001b[39m\u001b[38;5;241m.\u001b[39m_timeout_occurred \u001b[38;5;241m=\u001b[39m \u001b[38;5;28;01mTrue\u001b[39;00m\n",
      "\u001b[0;31mKeyboardInterrupt\u001b[0m: "
     ]
    }
   ],
   "source": [
    "bicycle = spark.\\\n",
    "    read.\\\n",
    "    csv(\"hdfs://192.168.0.160:8020/encore/tpss_bcycl_od_statnhm_202001.csv\", header=True, inferSchema=True, encoding='euc-kr')"
   ]
  },
  {
   "cell_type": "code",
   "execution_count": null,
   "id": "5b460842-16db-4344-a1a7-ab3a48254363",
   "metadata": {},
   "outputs": [],
   "source": []
  },
  {
   "cell_type": "code",
   "execution_count": null,
   "id": "f44577d4-2813-4cf8-a732-d69f5c696f45",
   "metadata": {},
   "outputs": [],
   "source": []
  },
  {
   "cell_type": "code",
   "execution_count": null,
   "id": "83ae3fd2-ad3d-40b0-b933-34b1ae085e67",
   "metadata": {},
   "outputs": [],
   "source": []
  }
 ],
 "metadata": {
  "kernelspec": {
   "display_name": "Python 3 (ipykernel)",
   "language": "python",
   "name": "python3"
  },
  "language_info": {
   "codemirror_mode": {
    "name": "ipython",
    "version": 3
   },
   "file_extension": ".py",
   "mimetype": "text/x-python",
   "name": "python",
   "nbconvert_exporter": "python",
   "pygments_lexer": "ipython3",
   "version": "3.10.12"
  }
 },
 "nbformat": 4,
 "nbformat_minor": 5
}
